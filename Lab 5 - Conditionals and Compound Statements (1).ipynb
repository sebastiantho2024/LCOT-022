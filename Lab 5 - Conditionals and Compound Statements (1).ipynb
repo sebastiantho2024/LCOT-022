{
 "cells": [
  {
   "cell_type": "markdown",
   "id": "9f0a95fe-a344-4f0b-9ebe-fd0571117f89",
   "metadata": {},
   "source": [
    "# 1. Logical functions and laws using conditionals\n",
    "TASK: Read and modify code acordingly"
   ]
  },
  {
   "cell_type": "code",
   "execution_count": 71,
   "id": "ec4b40b3-b0e6-4c7c-bfa3-4562cdbaf28a",
   "metadata": {},
   "outputs": [
    {
     "name": "stdout",
     "output_type": "stream",
     "text": [
      "p \tq \tr \tp ∨ q \t(p ∧ q) → r \tp → q \t(p → r) ∧ (q → r)\n",
      "----------------------------------------------------------------------------------------------------\n",
      "True \tTrue \tTrue \tTrue \tTrue \tTrue \tTrue\n",
      "True \tTrue \tFalse \tTrue \tFalse \tTrue \tFalse\n",
      "True \tFalse \tTrue \tTrue \tTrue \tFalse \tTrue\n",
      "True \tFalse \tFalse \tTrue \tTrue \tFalse \tFalse\n",
      "False \tTrue \tTrue \tTrue \tTrue \tTrue \tTrue\n",
      "False \tTrue \tFalse \tTrue \tTrue \tTrue \tFalse\n",
      "False \tFalse \tTrue \tFalse \tTrue \tTrue \tTrue\n",
      "False \tFalse \tFalse \tFalse \tTrue \tTrue \tTrue\n"
     ]
    }
   ],
   "source": [
    "# Logical functions\n",
    "def implies(p, q):\n",
    "    return not p or q\n",
    "\n",
    "def contrapositive(p, q):\n",
    "    return implies(not q, not p)\n",
    "\n",
    "def converse(p, q):\n",
    "    return implies(q, p)\n",
    "\n",
    "def inverse(p, q):\n",
    "    return implies(not p, not q)\n",
    "\n",
    "def biconditional(p, q):\n",
    "    return p == q\n",
    "\n",
    "def xor(p,q):\n",
    "    return (not p and not q) or ( (p and not q))\n",
    "\n",
    "# Logical equivalences\n",
    "def distributive(p, q, r):\n",
    "    return implies(p or q, r) == (implies(p, r) and implies(q, r))\n",
    "\n",
    "def exportation(p, q, r):\n",
    "    return implies(p and q, r) == implies(p, implies(q, r))\n",
    "\n",
    "def reduction(p, q):\n",
    "    return not implies(p, q) == (p and not q)\n",
    "\n",
    "def equivalence(p,q):\n",
    "    return biconditional(p,q) == (not xor(p,q))\n",
    "\n",
    "def truthTable():\n",
    "    # Columns\n",
    "    # TASK: Modify each column as required for your compound statement (p, q, r, p ∨ q, (p ∧ q) → r, p → q, (p → r) ∧ (q → r))\n",
    "    \n",
    "    col1 = 'p'\n",
    "    col2 = 'q'\n",
    "    col3 = 'r'\n",
    "    col4 = 'p ∨ q'\n",
    "    col5 = '(p ∧ q) → r'\n",
    "    col6 = 'p → q'\n",
    "    col7 = '(p → r) ∧ (q → r)'\n",
    "    print(f'{col1} \\t{col2} \\t{col3} \\t{col4} \\t{col5} \\t{col6} \\t{col7}')\n",
    "    print('-'*100)\n",
    "    \n",
    "    # Iteration of proposition values\n",
    "    for p in [True, False]:\n",
    "        for q in [True, False]:\n",
    "            for r in [True, False]:\n",
    "                # Columns\n",
    "                # TASK: Modify each column as required for your compound statement\n",
    "                col1 = p\n",
    "                col2 = q\n",
    "                col3 = r\n",
    "                col4 = p or q\n",
    "                col5 = implies((p and q), r)\n",
    "                col6 = implies(p,q)\n",
    "                col7 = implies(p,r) and implies(q,r)\n",
    "                print(f'{col1} \\t{col2} \\t{col3} \\t{col4} \\t{col5} \\t{col6} \\t{col7}')\n",
    "\n",
    "truthTable()"
   ]
  },
  {
   "cell_type": "markdown",
   "id": "e0179427-dd39-4375-9e1e-7910a96170be",
   "metadata": {},
   "source": [
    "## 2. Testing each logic function"
   ]
  },
  {
   "cell_type": "code",
   "execution_count": 73,
   "id": "33e65344-3489-4cfb-9195-4600b64667e6",
   "metadata": {},
   "outputs": [
    {
     "name": "stdout",
     "output_type": "stream",
     "text": [
      "True\n",
      "(False, False)\n",
      "True\n"
     ]
    }
   ],
   "source": [
    "# Task: Modify values for p and q\n",
    "#       and try each logical function and logical equivalence\n",
    "# Example:\n",
    "p = True\n",
    "q = True\n",
    "r = True\n",
    "\n",
    "# Example:\n",
    "print( (not xor(p,q)) )\n",
    "print((not q, not p))\n",
    "#print( conditional(p,q) )\n",
    "\n",
    "#print (not p or q) and ( (p and q))\n",
    "print ((p or q, r) == ((p, r) and (q, r)))\n",
    "\n"
   ]
  },
  {
   "cell_type": "code",
   "execution_count": 74,
   "id": "0544eb41-a7e8-4568-9817-434a9ecdca76",
   "metadata": {},
   "outputs": [
    {
     "name": "stdout",
     "output_type": "stream",
     "text": [
      "True\n",
      "(False, True)\n",
      "True\n"
     ]
    }
   ],
   "source": [
    "p = False\n",
    "q = True\n",
    "r = False\n",
    "\n",
    "print( (not xor(p,q)) )\n",
    "print((not q, not p))\n",
    "\n",
    "print ((p or q, r) == ((p, r) and (q, r)))"
   ]
  },
  {
   "cell_type": "code",
   "execution_count": 75,
   "id": "0ca3b2e1-dc87-4ec3-82f7-04caae430273",
   "metadata": {},
   "outputs": [
    {
     "name": "stdout",
     "output_type": "stream",
     "text": [
      "False\n",
      "(True, False)\n",
      "False\n"
     ]
    }
   ],
   "source": [
    "p = True\n",
    "q = False\n",
    "r = False\n",
    "\n",
    "print( (not xor(p,q)) )\n",
    "print((not q, not p))\n",
    "\n",
    "print ((p or q, r) == ((p, r) and (q, r)))"
   ]
  },
  {
   "cell_type": "code",
   "execution_count": 76,
   "id": "03441e20-4f87-4c82-a094-b0a7a24b871a",
   "metadata": {},
   "outputs": [
    {
     "name": "stdout",
     "output_type": "stream",
     "text": [
      "False\n",
      "(True, True)\n",
      "True\n"
     ]
    }
   ],
   "source": [
    "p = False\n",
    "q = False\n",
    "r = False\n",
    "\n",
    "print( (not xor(p,q)) )\n",
    "print((not q, not p))\n",
    "\n",
    "print ((p or q, r) == ((p, r) and (q, r)))"
   ]
  },
  {
   "cell_type": "markdown",
   "id": "cc872434-fec1-4081-baba-6f3254733c46",
   "metadata": {},
   "source": [
    "## 3. Compound statements using conditionals in English"
   ]
  },
  {
   "cell_type": "code",
   "execution_count": 78,
   "id": "eda345e0-9dc5-485a-baf8-a1e5a60385b0",
   "metadata": {},
   "outputs": [
    {
     "name": "stdout",
     "output_type": "stream",
     "text": [
      "Original Proposition:  If it's your birthday, then you celebrate your birthday.\n",
      "Inverse:  If it's not your birthday, then you do not celebrate your birthday.\n",
      "Converse:  If you celebrate your birthday, then it's your birthday.\n",
      "Contrapositive:  If you do not celebrate your birthday, then it's not your birthday.\n"
     ]
    }
   ],
   "source": [
    "def proposition_to_string(p, q):\n",
    "    prop = f\"If {p}, then {q}.\"   \n",
    "    return prop\n",
    "\n",
    "# TASK: Replace p and q for another compound statement\n",
    "def main():\n",
    "    p = \"it's your birthday\"\n",
    "    q = \"you celebrate your birthday\"\n",
    "\n",
    "    print(\"Original Proposition: \", proposition_to_string(p, q))\n",
    "\n",
    "    p_inv = \"it's not your birthday\"\n",
    "    q_inv = \"you do not celebrate your birthday\"\n",
    "\n",
    "    print(\"Inverse: \", proposition_to_string(p_inv, q_inv))\n",
    "    print(\"Converse: \", proposition_to_string(q, p))\n",
    "    print(\"Contrapositive: \", proposition_to_string(q_inv, p_inv))\n",
    "\n",
    "main()"
   ]
  }
 ],
 "metadata": {
  "kernelspec": {
   "display_name": "Python [conda env:base] *",
   "language": "python",
   "name": "conda-base-py"
  },
  "language_info": {
   "codemirror_mode": {
    "name": "ipython",
    "version": 3
   },
   "file_extension": ".py",
   "mimetype": "text/x-python",
   "name": "python",
   "nbconvert_exporter": "python",
   "pygments_lexer": "ipython3",
   "version": "3.12.7"
  }
 },
 "nbformat": 4,
 "nbformat_minor": 5
}
